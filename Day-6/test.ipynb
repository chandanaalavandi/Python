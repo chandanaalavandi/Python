{
 "cells": [
  {
   "cell_type": "code",
   "execution_count": 3,
   "metadata": {},
   "outputs": [],
   "source": [
    "file = open(\"example.txt\", \"r\")\n"
   ]
  },
  {
   "cell_type": "code",
   "execution_count": 5,
   "metadata": {},
   "outputs": [
    {
     "name": "stdout",
     "output_type": "stream",
     "text": [
      "Learn by examples! This tutorial supplements all explanations with clarifying examples.\n",
      "Track your progress with the free \"My Learning\" program here at W3Schools.\n",
      "\n",
      "Log in to your account, and start earning points!\n",
      "\n",
      "This is an optional feature. You can study at W3Schools without using My Learning.\n"
     ]
    }
   ],
   "source": [
    "file = open(\"example.txt\", \"r\")\n",
    "content = file.read()   #reads the  entire content of the file as a single string\n",
    "print(content)\n",
    "file.close()\n"
   ]
  },
  {
   "cell_type": "code",
   "execution_count": 6,
   "metadata": {},
   "outputs": [
    {
     "name": "stdout",
     "output_type": "stream",
     "text": [
      "Learn by examples! This tutorial supplements all explanations with clarifying examples.\n",
      "Track your progress with the free \"My Learning\" program here at W3Schools.\n",
      "\n",
      "Log in to your account, and start earning points!\n",
      "\n",
      "This is an optional feature. You can study at W3Schools without using My Learning.\n",
      "Learn by examples! This tutorial supplements all explanations with clarifying examples.\n",
      "Track your progress with the free \"My Learning\" program here at W3Schools.\n",
      "\n",
      "Log in to your account, and start earning points!\n",
      "\n",
      "This is an optional feature. You can study at W3Schools without using My Learning.\n",
      "Learn by examples! This tutorial supplements all explanations with clarifying examples.\n",
      "Track your progress with the free \"My Learning\" program here at W3Schools.\n",
      "\n",
      "Log in to your account, and start earning points!\n",
      "\n",
      "This is an optional feature. You can study at W3Schools without using My Learning.\n",
      "Learn by examples! This tutorial supplements all explanations with clarifying examples.\n",
      "Track your progress with the free \"My Learning\" program here at W3Schools.\n",
      "\n",
      "Log in to your account, and start earning points!\n",
      "\n",
      "This is an optional feature. You can study at W3Schools without using My Learning.\n"
     ]
    }
   ],
   "source": [
    "file = open(\"example.txt\", \"r\")\n",
    "for line in file: \n",
    "    print(content)\n",
    "file.close()"
   ]
  },
  {
   "cell_type": "code",
   "execution_count": 8,
   "metadata": {},
   "outputs": [],
   "source": [
    "file = open(\"example.txt\",\"w\")   #overwriting the existing file.\n",
    "file.write(\"Welcome to python session.\")\n",
    "file.close()"
   ]
  },
  {
   "cell_type": "code",
   "execution_count": 12,
   "metadata": {},
   "outputs": [],
   "source": [
    "file = open(\"example1.txt\",\"a\") \n",
    "file.write(\"\\n we are appending new line in example1.txt file \")\n",
    "file.close()"
   ]
  },
  {
   "cell_type": "code",
   "execution_count": null,
   "metadata": {},
   "outputs": [],
   "source": []
  }
 ],
 "metadata": {
  "kernelspec": {
   "display_name": "Python 3",
   "language": "python",
   "name": "python3"
  },
  "language_info": {
   "codemirror_mode": {
    "name": "ipython",
    "version": 3
   },
   "file_extension": ".py",
   "mimetype": "text/x-python",
   "name": "python",
   "nbconvert_exporter": "python",
   "pygments_lexer": "ipython3",
   "version": "3.12.1"
  }
 },
 "nbformat": 4,
 "nbformat_minor": 2
}
