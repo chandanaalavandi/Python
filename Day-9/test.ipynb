{
 "cells": [
  {
   "cell_type": "code",
   "execution_count": 4,
   "metadata": {},
   "outputs": [
    {
     "name": "stdout",
     "output_type": "stream",
     "text": [
      "None\n"
     ]
    }
   ],
   "source": [
    "def check_positive(number):\n",
    "    if number < 0:\n",
    "        raise ValueError(\"Negative numbers are not allowed!\")\n",
    "try:\n",
    "    print(check_positive(5))\n",
    "except ValueError as e:\n",
    "    print(e)"
   ]
  },
  {
   "cell_type": "code",
   "execution_count": 7,
   "metadata": {},
   "outputs": [
    {
     "name": "stdout",
     "output_type": "stream",
     "text": [
      "Oops!! You can't divide by zero\n"
     ]
    }
   ],
   "source": [
    "#using try except block\n",
    "try:\n",
    "    result = 10 / 0\n",
    "except ZeroDivisionError:\n",
    "    print(\"Oops!! You can't divide by zero\")"
   ]
  },
  {
   "cell_type": "code",
   "execution_count": 9,
   "metadata": {},
   "outputs": [
    {
     "name": "stdout",
     "output_type": "stream",
     "text": [
      "File not found!\n",
      "File closed.\n"
     ]
    }
   ],
   "source": [
    "try:\n",
    "    file = open(\"example.txt\",\"r\")\n",
    "    #some kind of code to raise an exception\n",
    "\n",
    "except FileNotFoundError:\n",
    "    print(\"File not found!\")\n",
    "\n",
    "finally:\n",
    "    file.close()\n",
    "    print(\"File closed.\")"
   ]
  }
 ],
 "metadata": {
  "kernelspec": {
   "display_name": "Python 3",
   "language": "python",
   "name": "python3"
  },
  "language_info": {
   "codemirror_mode": {
    "name": "ipython",
    "version": 3
   },
   "file_extension": ".py",
   "mimetype": "text/x-python",
   "name": "python",
   "nbconvert_exporter": "python",
   "pygments_lexer": "ipython3",
   "version": "3.12.1"
  }
 },
 "nbformat": 4,
 "nbformat_minor": 2
}
