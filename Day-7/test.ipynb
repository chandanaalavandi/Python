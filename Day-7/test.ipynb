{
 "cells": [
  {
   "cell_type": "code",
   "execution_count": 2,
   "metadata": {},
   "outputs": [
    {
     "ename": "TypeError",
     "evalue": "BankAccount.withdraw() takes 1 positional argument but 2 were given",
     "output_type": "error",
     "traceback": [
      "\u001b[0;31m---------------------------------------------------------------------------\u001b[0m",
      "\u001b[0;31mTypeError\u001b[0m                                 Traceback (most recent call last)",
      "Cell \u001b[0;32mIn[2], line 18\u001b[0m\n\u001b[1;32m     16\u001b[0m account \u001b[38;5;241m=\u001b[39m BankAccount (\u001b[38;5;241m2000\u001b[39m)\n\u001b[1;32m     17\u001b[0m account\u001b[38;5;241m.\u001b[39mdeposite(\u001b[38;5;241m300\u001b[39m)\n\u001b[0;32m---> 18\u001b[0m \u001b[43maccount\u001b[49m\u001b[38;5;241;43m.\u001b[39;49m\u001b[43mwithdraw\u001b[49m\u001b[43m(\u001b[49m\u001b[38;5;241;43m500\u001b[39;49m\u001b[43m)\u001b[49m\n\u001b[1;32m     19\u001b[0m \u001b[38;5;28mprint\u001b[39m(account\u001b[38;5;241m.\u001b[39mget_balance())\n\u001b[1;32m     20\u001b[0m \u001b[38;5;28mprint\u001b[39m(account\u001b[38;5;241m.\u001b[39m_balance)\n",
      "\u001b[0;31mTypeError\u001b[0m: BankAccount.withdraw() takes 1 positional argument but 2 were given"
     ]
    }
   ],
   "source": [
    "class BankAccount:\n",
    "    def __init__(self,balance):\n",
    "        self._balance = balance      #Private Variable\n",
    "\n",
    "    def deposite(self,amount):\n",
    "        self._balance += amount\n",
    "    \n",
    "    def get_balance(self):\n",
    "        return self._balance\n",
    "    \n",
    "    def withdraw(self):\n",
    "        self._balance -+ amount \n",
    "    \n",
    "\n",
    "#creating an object\n",
    "account = BankAccount (2000)\n",
    "account.deposite(300)\n",
    "account.withdraw(500)\n",
    "print(account.get_balance())\n",
    "print(account._balance)"
   ]
  }
 ],
 "metadata": {
  "kernelspec": {
   "display_name": "Python 3",
   "language": "python",
   "name": "python3"
  },
  "language_info": {
   "codemirror_mode": {
    "name": "ipython",
    "version": 3
   },
   "file_extension": ".py",
   "mimetype": "text/x-python",
   "name": "python",
   "nbconvert_exporter": "python",
   "pygments_lexer": "ipython3",
   "version": "3.12.1"
  }
 },
 "nbformat": 4,
 "nbformat_minor": 2
}
